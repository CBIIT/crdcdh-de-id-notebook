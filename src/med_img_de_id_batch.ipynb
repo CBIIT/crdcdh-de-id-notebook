{
 "cells": [
  {
   "attachments": {},
   "cell_type": "markdown",
   "metadata": {},
   "source": [
    "# HIPAA Privacy Rule-based De-identification on DICOM Dataset\n",
    "\n",
    "HIPAA provides two methods for de-identification: the \"Safe Harbor\" method and the \"Expert Determination\" method. The Safe Harbor method is more straightforward and involves anonymizing/redacting 18 specific types of identifiers from the data.\n",
    "\n",
    "Here, we will focus on the Safe Harbor method, which includes removing or redacting identifiers such as names, geographic subdivisions smaller than a state, dates directly related to an individual, phone numbers, email addresses, and more.\n",
    "\n",
    "After de-ID,  the DICOM file will be updated and uploaded to destiny storage and evaluated by AWS services, Rekongnition, Comprehend and Comprehend Medical."
   ]
  },
  {
   "cell_type": "markdown",
   "metadata": {},
   "source": [
    "## Setup De-identification Environment\n",
    "\n",
    "Let's start by setting environment variables for de identification of DICOM file:\n",
    "1) set local path of DICOM img folder.\n",
    "2) set source and destiny s3 bucket.\n",
    "3) set source and destiny prefix for DICOM file.\n",
    "4) cleanup de-id DICOM dir and evaluation DICOM dir\n",
    "5) set aws session with user profile name."
   ]
  },
  {
   "cell_type": "code",
   "execution_count": 1,
   "metadata": {},
   "outputs": [
    {
     "name": "stdout",
     "output_type": "stream",
     "text": [
      "sagemaker.config INFO - Not applying SDK defaults from location: /Library/Application Support/sagemaker/config.yaml\n",
      "sagemaker.config INFO - Not applying SDK defaults from location: /Users/gup2/Library/Application Support/sagemaker/config.yaml\n"
     ]
    }
   ],
   "source": [
    "from med_img_de_id_class import ProcessMedImage\n",
    "from common.utils import get_boto3_session, cleanup_dir, get_date_time, dump_dict_to_tsv\n",
    "# setup environment\n",
    "LOC_DICOM_FOLDER = '/Users/gup2/Documents/AI/Dicom_files/manifest-1617826555824/Pseudo-PHI-DICOM-Data'\n",
    "LOC_DE_ID_DICOM_FOLDER = '../images/med_de_id_img/Pseudo-PHI-DICOM-Data'\n",
    "LOC_EVAL_DICOM_FOLDER = '../images/med_eval_img/Pseudo-PHI-DICOM-Data'\n",
    "SOURCE_BUCKET = \"de-id-src\"\n",
    "DESTINATION_BUCKET = \"de-id-dest\"\n",
    "SOURCE_PREFIX = \"dicom-images/\"\n",
    "DESTINATION_PREFIX = \"de-id-dicom-images/\"\n",
    "EVAL_BUCKET = \"de-id-evl\"\n",
    "EVAL_PREFIX = \"eval-de-id-dicom-images/\"\n",
    "FILE_NAME = 'file_name'\n",
    "FILE_PATH = 'file_path'\n",
    "FILE_PREFIX = 'prefix'\n",
    "\n",
    "# cleanup destination dirs\n",
    "cleanup_dir([LOC_DE_ID_DICOM_FOLDER, LOC_EVAL_DICOM_FOLDER ])\n",
    "aws_session = None\n",
    "rule_config_file_path= '../configs/de-id/de_id_rules_auto.yaml'\n",
    "batch_size = 164\n",
    "batch_max = 10\n",
    "batch_count = 0\n"
   ]
  },
  {
   "cell_type": "markdown",
   "metadata": {},
   "source": [
    "## De-identification On Batch DICOM files"
   ]
  },
  {
   "cell_type": "code",
   "execution_count": 2,
   "metadata": {},
   "outputs": [
    {
     "name": "stdout",
     "output_type": "stream",
     "text": [
      "Found 1693 DICOM files under /Users/gup2/Documents/AI/Dicom_files/manifest-1617826555824/Pseudo-PHI-DICOM-Data\n",
      "Start De-id on Batch of DICAM Files at 2024-08-28-11-46-15-979\n",
      "Found PHI in pixel: [{'Text': 'MARTIN CHAD [U] 01.01.2000', 'Text Block': {'Left': 1552, 'Top': 1850, 'Width': 319, 'Height': 23}}] in DICOM: 339833062/07-05-2001-NA-NA-19638/3001578.000000-NA-60758/1-1.dcm.\n",
      "PHI in pixel have been redacted\n",
      "Found PHI in pixel: [{'Text': 'DAVIDSON DOUGLAS [M] 01.09.2012', 'Text Block': {'Left': 0, 'Top': 0, 'Width': 814, 'Height': 45}}, {'Text': 'DOB: 06.16.1976', 'Text Block': {'Left': 17, 'Top': 45, 'Width': 346, 'Height': 37}}] in DICOM: 292821506/07-13-2013-NA-XR CHEST AP PORTABLE for Douglas Davidson-46198/1002.000000-NA-53238/1-1.dcm.\n",
      "PHI in pixel have been redacted\n",
      "Found PHI in pixel: [{'Text': 'KAUFMAN SCOTT [MM] Qs.09. 2012', 'Text Block': {'Left': 1, 'Top': 0, 'Width': 228, 'Height': 14}}, {'Text': 'DOB: 07.22.1943', 'Text Block': {'Left': 5, 'Top': 15, 'Width': 109, 'Height': 11}}] in DICOM: 6774825273/09-11-2013-NA-XR CHEST AP PORTABLE for Scott Kaufman-73078/1.000000-NA-91318/2-1.dcm.\n",
      "PHI in pixel have been redacted\n",
      "Found PHI in pixel: [{'Text': 'YER STEPHAN Q2.29.2012', 'Text Block': {'Left': 78, 'Top': 0, 'Width': 692, 'Height': 36}}, {'Text': 'DOB: 07.16.1953', 'Text Block': {'Left': 17, 'Top': 45, 'Width': 341, 'Height': 37}}] in DICOM: 8548156246/08-29-2013-NA-XR CHEST AP PORTABLE for Stephanie Meyer-23478/1.000000-AP-51318/1-1.dcm.\n",
      "PHI in pixel have been redacted\n",
      "Completed De-in on batch of DiCAM files at 2024-08-28-11-51-21-048\n",
      "Total 1693 DICOM files are processed.\n",
      "Total run time: 305.06923 seconds\n"
     ]
    },
    {
     "data": {
      "text/markdown": [
       "Click [Batch De-identification Report ](../output/report/Batch-De-Id-Report-2024-08-28-11-51-21-040.tsv) to download report."
      ],
      "text/plain": [
       "<IPython.core.display.Markdown object>"
      ]
     },
     "metadata": {},
     "output_type": "display_data"
    }
   ],
   "source": [
    "import glob, os, datetime\n",
    "\n",
    "dicom_list = []\n",
    "dicom_files = glob.glob('{}/**/*.dcm'.format(LOC_DICOM_FOLDER), recursive=True)\n",
    "print(f'Found {len(dicom_files)} DICOM files under {LOC_DICOM_FOLDER}')\n",
    "start_date_time = datetime.datetime.now()\n",
    "print(f\"Start De-id on Batch of DICAM Files at {get_date_time()}\")\n",
    "\n",
    "try:\n",
    "    # create a de-id processor\n",
    "    processor = ProcessMedImage(aws_session, rule_config_file_path, True)\n",
    "    last_de_if_fold = \"None\"\n",
    "    for filepath in dicom_files:\n",
    "        filename = os.path.basename(filepath)\n",
    "        prefix = os.path.join(SOURCE_PREFIX, '/'.join(filepath.split('/')[-4:-2]))\n",
    "        short_file_path = '/'.join(filepath.split('/')[-4:])\n",
    "        # print('Filename: {}, Filepath: {}'.format(filename, short_file_path))\n",
    "        local_de_id_dicom = os.path.join(LOC_DE_ID_DICOM_FOLDER, short_file_path)\n",
    "        if last_de_if_fold != os.path.dirname(local_de_id_dicom):\n",
    "            last_de_if_fold = os.path.dirname(local_de_id_dicom)\n",
    "            os.makedirs(os.path.dirname(local_de_id_dicom), exist_ok=True)\n",
    "        text_in_image = False\n",
    "        phi_in_image = False\n",
    "        redacted_tags = 0\n",
    "    \n",
    "        result = processor.parse_dicom_file(None, None, filepath)\n",
    "        dicom_dataset = processor.ds\n",
    "        if dicom_dataset:\n",
    "            redacted_count, redacted_tags = processor.de_identify_dicom()\n",
    "            id_text_detected, text_in_image = processor.detect_id_in_img(None, None)\n",
    "            if text_in_image and id_text_detected and len(id_text_detected):\n",
    "                phi_in_image = True\n",
    "                # print(f'Sensitive text detected in {filepath}')\n",
    "                print (f'Found PHI in pixel: {id_text_detected} in DICOM: {short_file_path}.')\n",
    "                processor.redact_id_in_image(id_text_detected)\n",
    "                print('PHI in pixel have been redacted')\n",
    "                # print('Filename: {}, Filepath: {}, Text In Pixel: {}, PHI In Pixel: {}'.format(filename, short_file_path, text_in_image, phi_in_image))\n",
    "            else:\n",
    "                # if text_in_image:\n",
    "                #      print('Filename: {}, Filepath: {}, Text In Pixel: {}, PHI In Pixel: {}'.format(filename, short_file_path, text_in_image, phi_in_image))\n",
    "                local_de_id_png = None\n",
    "                # print(f'No sensitive text detected in {filepath}')\n",
    "            processor.save_de_id_dicom(local_de_id_dicom)\n",
    "        dicom_list.append({FILE_NAME: filename, \"Redacted Tags\": redacted_count, \"Text In Pixel\": text_in_image, \"PHI In Pixel\": id_text_detected, FILE_PATH: short_file_path})        \n",
    "except Exception as e:\n",
    "    print(f'Error processing dicom file: {e}')\n",
    "    raise e\n",
    "finally:\n",
    "    processor = None\n",
    "# create a tsv file with the results of the de-id process\n",
    "running_report = f\"../output/report/Batch-De-Id-Report-{get_date_time()}.tsv\"\n",
    "dump_dict_to_tsv(dicom_list, running_report)\n",
    "end_date_time = datetime.datetime.now()\n",
    "print(f'Completed De-in on batch of DiCAM files at {get_date_time()}')\n",
    "print(f'Total {len(dicom_list)} DICOM files are processed.')\n",
    "run_time = (end_date_time - start_date_time).total_seconds()\n",
    "print(f'Total run time: {run_time} seconds')\n",
    "from IPython.display import Markdown, display\n",
    "markdown_content = f\"Click [Batch De-identification Report ]({running_report}) to download report.\"\n",
    "# Display the Markdown\n",
    "display(Markdown(markdown_content))"
   ]
  },
  {
   "cell_type": "markdown",
   "metadata": {},
   "source": [
    "## Statistics of De-identification on Batch DICOM Dataset"
   ]
  },
  {
   "cell_type": "code",
   "execution_count": 3,
   "metadata": {},
   "outputs": [
    {
     "name": "stdout",
     "output_type": "stream",
     "text": [
      "Number of DICOM files: 1693\n",
      "Processed 100.0% of DICOM files\n",
      "Average processing time per DICOM: 0.2 seconds\n",
      "Number of Redacted DICOM: 1693\n",
      "Redacted Ratio: 100%\n",
      "Number of DICOM with PHI in Metadata: 1693\n",
      "Number of DICOM with text in Pixel: 64 detected by Tesseract with confidence threshold of 5%.\n",
      "Number of DICOM with PHI in Pixel: 4 detected by Rules\n",
      "file: 339833062/07-05-2001-NA-NA-19638/3001578.000000-NA-60758/1-1.dcm, PHI in pixel: [{'Text': 'MARTIN CHAD [U] 01.01.2000', 'Text Block': {'Left': 1552, 'Top': 1850, 'Width': 319, 'Height': 23}}]\n",
      "file: 292821506/07-13-2013-NA-XR CHEST AP PORTABLE for Douglas Davidson-46198/1002.000000-NA-53238/1-1.dcm, PHI in pixel: [{'Text': 'DAVIDSON DOUGLAS [M] 01.09.2012', 'Text Block': {'Left': 0, 'Top': 0, 'Width': 814, 'Height': 45}}, {'Text': 'DOB: 06.16.1976', 'Text Block': {'Left': 17, 'Top': 45, 'Width': 346, 'Height': 37}}]\n",
      "file: 6774825273/09-11-2013-NA-XR CHEST AP PORTABLE for Scott Kaufman-73078/1.000000-NA-91318/2-1.dcm, PHI in pixel: [{'Text': 'KAUFMAN SCOTT [MM] Qs.09. 2012', 'Text Block': {'Left': 1, 'Top': 0, 'Width': 228, 'Height': 14}}, {'Text': 'DOB: 07.22.1943', 'Text Block': {'Left': 5, 'Top': 15, 'Width': 109, 'Height': 11}}]\n",
      "file: 8548156246/08-29-2013-NA-XR CHEST AP PORTABLE for Stephanie Meyer-23478/1.000000-AP-51318/1-1.dcm, PHI in pixel: [{'Text': 'YER STEPHAN Q2.29.2012', 'Text Block': {'Left': 78, 'Top': 0, 'Width': 692, 'Height': 36}}, {'Text': 'DOB: 07.16.1953', 'Text Block': {'Left': 17, 'Top': 45, 'Width': 341, 'Height': 37}}]\n"
     ]
    }
   ],
   "source": [
    "processed_count = len(dicom_list)\n",
    "total_dicom_files = len(dicom_files)\n",
    "print(f\"Number of DICOM files: {total_dicom_files}\")\n",
    "processed_rate = round(processed_count/len(dicom_files) * 100, 3)\n",
    "print(f\"Processed {processed_rate}% of DICOM files\")\n",
    "mean_process_time = round(run_time/total_dicom_files, 1)\n",
    "print(f\"Average processing time per DICOM: {mean_process_time} seconds\")\n",
    "redacted_count = processed_count  - len([file for file in dicom_list if (not file[\"Redacted Tags\"] or file[\"Redacted Tags\"] == 0) and not file[\"PHI In Pixel\"]])\n",
    "print(f\"Number of Redacted DICOM: {redacted_count}\")\n",
    "print(f\"Redacted Ratio: {round(redacted_count/processed_count)*100}%\")\n",
    "redacted_metadata_count = len([file for file in dicom_list if file[\"Redacted Tags\"]> 0])\n",
    "print(f\"Number of DICOM with PHI in Metadata: {redacted_metadata_count}\")\n",
    "text_in_pixel_count = len([file for file in dicom_list if file[\"Text In Pixel\"]> 0])\n",
    "phi_in_pixel_dicom = [file for file in dicom_list if len(file[\"PHI In Pixel\"])> 0]\n",
    "phi_in_pixel_count = len(phi_in_pixel_dicom)\n",
    "print(f\"Number of DICOM with text in Pixel: {text_in_pixel_count} detected by Tesseract with confidence threshold of 5%.\")\n",
    "print(f\"Number of DICOM with PHI in Pixel: {phi_in_pixel_count} detected by Rules\")\n",
    "for file in phi_in_pixel_dicom:\n",
    "    print(f'file: {file['file_path']}, PHI in pixel: {file[\"PHI In Pixel\"]}')\n",
    "\n",
    "# cleanup unused resources\n",
    "# dicom_list = None\n",
    "# dicom_files = None\n"
   ]
  },
  {
   "cell_type": "markdown",
   "metadata": {},
   "source": []
  },
  {
   "cell_type": "markdown",
   "metadata": {},
   "source": [
    "## Evaluate Batch Redacted DICOM Files"
   ]
  },
  {
   "cell_type": "code",
   "execution_count": 4,
   "metadata": {},
   "outputs": [
    {
     "name": "stdout",
     "output_type": "stream",
     "text": [
      "Found 1693 DICOM files under ../images/med_de_id_img/Pseudo-PHI-DICOM-Data\n",
      "Start Evaluating Batch De-id DICOM Files at 2024-08-28-11-51-21-099\n",
      "Completed!\n",
      "Completed Evaluating on batch of De-id DICAM files at 2024-08-28-13-14-21-174\n",
      "Total 1693 DICOM files have remaining PHI and being redacted.\n"
     ]
    },
    {
     "data": {
      "text/markdown": [
       "Click [Batch Evaluating Report ](../output/report/Batch-Eval-Report-2024-08-28-13-14-21-161.tsv) to download report."
      ],
      "text/plain": [
       "<IPython.core.display.Markdown object>"
      ]
     },
     "metadata": {},
     "output_type": "display_data"
    }
   ],
   "source": [
    "import random, glob, os\n",
    "eval_dicom_list = []\n",
    "eval_dicom_files = glob.glob('{}/**/*.dcm'.format(LOC_DE_ID_DICOM_FOLDER), recursive=True)\n",
    "de_id_dicom_count = len(eval_dicom_files)\n",
    "print(f'Found {de_id_dicom_count} DICOM files under {LOC_DE_ID_DICOM_FOLDER}')\n",
    "print(f\"Start Evaluating Batch De-id DICOM Files at {get_date_time()}\")\n",
    "# random_test = False\n",
    "# random_numbers = random.sample(range(1, 1693 + 1), 85)\n",
    "# print(f'Randomly select {random_numbers} DICOM files for evaluation')\n",
    "\n",
    "try:\n",
    "     # create a de-id processor\n",
    "    aws_session = get_boto3_session(\"esi\")\n",
    "    processor = ProcessMedImage(aws_session, rule_config_file_path, True)\n",
    "    # for filepath in eval_dicom_files:\n",
    "    last_eval_fold = \"None\"\n",
    "    # for i in random_numbers:\n",
    "        # filepath = eval_dicom_files[i - 1]\n",
    "    for filepath in eval_dicom_files:\n",
    "        # if random_test:\n",
    "        #     filepath = eval_dicom_files[i - 1]\n",
    "        # print(f'Processing {filepath}')\n",
    "        filename = os.path.basename(filepath)\n",
    "        # key = os.path.join(EVAL_PREFIX, os.path.join(LOC_DICOM_FOLDER.split('/')[-1], '/'.join(filepath.split('/')[-4:])))\n",
    "        # print(f's3-key: {key}')\n",
    "        local_de_id_dicom = filepath\n",
    "        text_in_image = False\n",
    "        phi_in_image = False\n",
    "        redacted_tags = 0\n",
    "        detected_tags = []\n",
    "        phi_dicom = None\n",
    "        # result = processor.parse_dicom_file(EVAL_BUCKET, key, filepath, True)\n",
    "        result = processor.parse_dicom_file(None, None, filepath)\n",
    "        dicom_dataset = processor.ds\n",
    "        if dicom_dataset:\n",
    "            detected_elements, detected_tags, id_entities = processor.detect_id_in_tags()\n",
    "            if len(detected_elements) > 0 and len(id_entities) > 0:\n",
    "                for elem in detected_elements:\n",
    "                    print(f'Found PHI in DICOM: {elem} at {filepath}.')\n",
    "                # redact id in dicom tags\n",
    "                processor.redact_tags(detected_elements)\n",
    "                redacted_tags = len(detected_elements)\n",
    "                processor.update_rules_in_configs(rule_config_file_path)\n",
    "                eval_dicom = local_de_id_dicom.replace(LOC_DE_ID_DICOM_FOLDER, LOC_EVAL_DICOM_FOLDER)\n",
    "                if last_eval_fold != os.path.dirname(eval_dicom):\n",
    "                    last_eval_fold = os.path.dirname(eval_dicom)\n",
    "                    os.makedirs(os.path.dirname(eval_dicom), exist_ok=True)\n",
    "                    \n",
    "                processor.save_de_id_dicom(eval_dicom)\n",
    "                processor.set_rules(rule_config_file_path)\n",
    "                \n",
    "            eval_dicom_list.append({FILE_NAME: filename, \"Redacted Tags\": redacted_tags, \"Text In Pixel\": text_in_image, \"PHI In Pixel\": phi_in_image, FILE_PATH: filepath})      \n",
    "                \n",
    "except Exception as e:\n",
    "    print(f'Error processing de-id dicom file: {e}')\n",
    "    raise e\n",
    "finally:\n",
    "    processor.close()\n",
    "    processor = None\n",
    "# create a tsv file with the results of the de-id process\n",
    "running_report = f\"../output/report/Batch-Eval-Report-{get_date_time()}.tsv\"\n",
    "dump_dict_to_tsv(eval_dicom_list, running_report)\n",
    "print(f'Completed Evaluating on batch of De-id DICAM files at {get_date_time()}')\n",
    "print(f'Total {len(eval_dicom_list)} DICOM files have remaining PHI and being redacted.')\n",
    "\n",
    "from IPython.display import Markdown, display\n",
    "markdown_content = f\"Click [Batch Evaluating Report ]({running_report}) to download report.\"\n",
    "# Display the Markdown\n",
    "display(Markdown(markdown_content))"
   ]
  },
  {
   "cell_type": "markdown",
   "metadata": {},
   "source": [
    "## Statistics of Evaluation on Batch De-identified DICOM Dataset"
   ]
  },
  {
   "cell_type": "code",
   "execution_count": 5,
   "metadata": {},
   "outputs": [
    {
     "name": "stdout",
     "output_type": "stream",
     "text": [
      "Number of De-id DICOM files: 1693\n",
      "Processed 100.0% of De-id DICOM files\n",
      "Number of Redacted De-id DICOM: 0\n",
      "Redacted Ratio: 0%\n",
      "Number of De-id DICOM with PHI in Metadata: 0\n",
      "Number of De-id DICOM with text in Pixel: 0 detected by AWS ReKognition\n",
      "Number of De-id DICOM with PHI in Pixel: 0 detected by AWS Comprehend Medical\n"
     ]
    }
   ],
   "source": [
    "processed_count = len(eval_dicom_list)\n",
    "total_dicom_files = len(eval_dicom_files)\n",
    "print(f\"Number of De-id DICOM files: {total_dicom_files}\")\n",
    "processed_rate = round(processed_count/total_dicom_files * 100, 3)\n",
    "print(f\"Processed {processed_rate}% of De-id DICOM files\")\n",
    "redacted_count = processed_count  - len([file for file in eval_dicom_list if (not file[\"Redacted Tags\"] or file[\"Redacted Tags\"] == 0) and not file[\"PHI In Pixel\"]])\n",
    "print(f\"Number of Redacted De-id DICOM: {redacted_count}\")\n",
    "print(f\"Redacted Ratio: {round(redacted_count/processed_count)*100}%\")\n",
    "redacted_metadata_count = len([file for file in eval_dicom_list if file[\"Redacted Tags\"]> 0])\n",
    "print(f\"Number of De-id DICOM with PHI in Metadata: {redacted_metadata_count}\")\n",
    "text_in_pixel_count = len([file for file in eval_dicom_list if file[\"Text In Pixel\"]> 0])\n",
    "phi_in_pixel_count = len([file for file in eval_dicom_list if file[\"PHI In Pixel\"]> 0])\n",
    "print(f\"Number of De-id DICOM with text in Pixel: {text_in_pixel_count} detected by AWS ReKognition\")\n",
    "print(f\"Number of De-id DICOM with PHI in Pixel: {phi_in_pixel_count} detected by AWS Comprehend Medical\")\n",
    "\n",
    "# cleanup unused resources\n",
    "# eval_dicom_list = None\n",
    "# eval_dicom_files = None"
   ]
  },
  {
   "cell_type": "markdown",
   "metadata": {},
   "source": [
    "## Evaluate on Redaction Model De-identification on Pixel Data "
   ]
  },
  {
   "cell_type": "code",
   "execution_count": 8,
   "metadata": {},
   "outputs": [
    {
     "name": "stdout",
     "output_type": "stream",
     "text": [
      "Found 1693 DICOM files under ../images/med_de_id_img/Pseudo-PHI-DICOM-Data\n",
      "Start Evaluating Batch De-id DICOM Files at 2024-08-28-13-33-43-939\n",
      "Completed!\n",
      "Completed Evaluating on batch of De-id DICAM files at 2024-08-28-13-46-12-418\n",
      "Total 1683 DICOM files are processed.\n"
     ]
    },
    {
     "data": {
      "text/markdown": [
       "Click [Batch Evaluating Report ](../output/report/Batch-Eval-Report-2024-08-28-13-46-12-409.tsv) to download report."
      ],
      "text/plain": [
       "<IPython.core.display.Markdown object>"
      ]
     },
     "metadata": {},
     "output_type": "display_data"
    }
   ],
   "source": [
    "import glob, os\n",
    "eval_dicom_list = []\n",
    "eval_dicom_files = glob.glob('{}/**/*.dcm'.format(LOC_DE_ID_DICOM_FOLDER), recursive=True)\n",
    "de_id_dicom_count = len(eval_dicom_files)\n",
    "print(f'Found {de_id_dicom_count} DICOM files under {LOC_DE_ID_DICOM_FOLDER}')\n",
    "print(f\"Start Evaluating Batch De-id DICOM Files at {get_date_time()}\")\n",
    "random_test = False\n",
    "# random_numbers = random.sample(range(1, 1693 + 1), 85)\n",
    "# print(f'Randomly select {random_numbers} DICOM files for evaluation')\n",
    "EVAL_BUCKET = \"de-id-dst\"\n",
    "try:\n",
    "     # create a de-id processor\n",
    "    aws_session = get_boto3_session(\"esi\")\n",
    "    processor = ProcessMedImage(aws_session, rule_config_file_path, True)\n",
    "    for filepath in eval_dicom_files[10:]:\n",
    "        filename = os.path.basename(filepath)\n",
    "        prefix = os.path.join(SOURCE_PREFIX, '/'.join(filepath.split('/')[-4:-2]))\n",
    "        key = os.path.join(prefix, filename)\n",
    "        local_de_id_dicom = filepath\n",
    "        text_in_image = False\n",
    "        phi_in_image = False\n",
    "        redacted_tags = 0\n",
    "        detected_tags = []\n",
    "        phi_dicom = None\n",
    "        result = processor.parse_dicom_file(EVAL_BUCKET, key, filepath, True)\n",
    "        dicom_dataset = processor.ds\n",
    "        if dicom_dataset:\n",
    "            id_text_detected, text_in_image = processor.detect_id_in_img(EVAL_BUCKET, key, True)\n",
    "            if text_in_image and id_text_detected and len(id_text_detected):\n",
    "                phi_in_image = True\n",
    "                # print(f'Sensitive text detected in {filepath}')\n",
    "                print (f'Found PHI in pixel: {id_text_detected} in DICOM: {short_file_path}.')\n",
    "                processor.redact_id_in_image(id_text_detected)\n",
    "                print('PHI in pixel have been redacted')\n",
    "                processor.update_rules_in_configs(rule_config_file_path)\n",
    "                processor.set_rules(rule_config_file_path)\n",
    "                # print('Filename: {}, Filepath: {}, Text In Pixel: {}, PHI In Pixel: {}'.format(filename, short_file_path, text_in_image, phi_in_image))      \n",
    "                \n",
    "            else:\n",
    "                # if text_in_image:\n",
    "                #      print('Filename: {}, Filepath: {}, Text In Pixel: {}, PHI In Pixel: {}'.format(filename, short_file_path, text_in_image, phi_in_image))\n",
    "                local_de_id_png = None\n",
    "                # print(f'No sensitive text detected in {filepath}') \n",
    "            eval_dicom_list.append({FILE_NAME: filename, \"Redacted Tags\": redacted_tags, \"Text In Pixel\": text_in_image, \"PHI In Pixel\": phi_in_image, FILE_PATH: filepath})  \n",
    "except Exception as e:\n",
    "    print(f'Error processing de-id dicom file: {e}')\n",
    "    raise e\n",
    "finally:\n",
    "    processor.close()\n",
    "    processor = None\n",
    "# create a tsv file with the results of the de-id process\n",
    "running_report = f\"../output/report/Batch-Eval-Report-{get_date_time()}.tsv\"\n",
    "dump_dict_to_tsv(eval_dicom_list, running_report)\n",
    "print(f'Completed Evaluating on batch of De-id DICAM files at {get_date_time()}')\n",
    "print(f'Total {len(eval_dicom_list)} DICOM files are processed.')\n",
    "\n",
    "from IPython.display import Markdown, display\n",
    "markdown_content = f\"Click [Batch Evaluating Report ]({running_report}) to download report.\"\n",
    "# Display the Markdown\n",
    "display(Markdown(markdown_content))"
   ]
  },
  {
   "cell_type": "markdown",
   "metadata": {},
   "source": [
    "## Statistics of evaluation on Pixel data"
   ]
  },
  {
   "cell_type": "code",
   "execution_count": 10,
   "metadata": {},
   "outputs": [
    {
     "name": "stdout",
     "output_type": "stream",
     "text": [
      "Number of De-id DICOM files: 1693\n",
      "Processed 99.409% of De-id DICOM files\n",
      "Number of Redacted De-id DICOM: 0\n",
      "Redacted Ratio: 0%\n",
      "Number of De-id DICOM with PHI in Metadata: 0\n",
      "Number of De-id DICOM with text in Pixel: 18 detected by AWS ReKognition\n",
      "Number of De-id DICOM with PHI in Pixel: 0 detected by AWS Comprehend Medical\n"
     ]
    }
   ],
   "source": [
    "processed_count = len(eval_dicom_list)\n",
    "total_dicom_files = len(eval_dicom_files)\n",
    "print(f\"Number of De-id DICOM files: {total_dicom_files}\")\n",
    "processed_rate = round(processed_count/total_dicom_files * 100, 3)\n",
    "print(f\"Processed {processed_rate}% of De-id DICOM files\")\n",
    "redacted_count = processed_count  - len([file for file in eval_dicom_list if (not file[\"Redacted Tags\"] or file[\"Redacted Tags\"] == 0) and not file[\"PHI In Pixel\"]])\n",
    "print(f\"Number of Redacted De-id DICOM: {redacted_count}\")\n",
    "print(f\"Redacted Ratio: {round(redacted_count/processed_count)*100}%\")\n",
    "redacted_metadata_count = len([file for file in eval_dicom_list if file[\"Redacted Tags\"]> 0])\n",
    "print(f\"Number of De-id DICOM with PHI in Metadata: {redacted_metadata_count}\")\n",
    "text_in_pixel_count = len([file for file in eval_dicom_list if file[\"Text In Pixel\"]> 0])\n",
    "phi_in_pixel_count = len([file for file in eval_dicom_list if file[\"PHI In Pixel\"]> 0])\n",
    "print(f\"Number of De-id DICOM with text in Pixel: {text_in_pixel_count} detected by AWS ReKognition\")\n",
    "print(f\"Number of De-id DICOM with PHI in Pixel: {phi_in_pixel_count} detected by AWS Comprehend Medical\")\n",
    "\n",
    "# cleanup unused resources\n",
    "# eval_dicom_list = None\n",
    "# eval_dicom_files = None"
   ]
  },
  {
   "cell_type": "code",
   "execution_count": null,
   "metadata": {},
   "outputs": [],
   "source": [
    "# close the processor\n",
    "processor.close()"
   ]
  }
 ],
 "metadata": {
  "kernelspec": {
   "display_name": "Python 3",
   "language": "python",
   "name": "python3"
  },
  "language_info": {
   "codemirror_mode": {
    "name": "ipython",
    "version": 3
   },
   "file_extension": ".py",
   "mimetype": "text/x-python",
   "name": "python",
   "nbconvert_exporter": "python",
   "pygments_lexer": "ipython3",
   "version": "3.12.4"
  }
 },
 "nbformat": 4,
 "nbformat_minor": 2
}
