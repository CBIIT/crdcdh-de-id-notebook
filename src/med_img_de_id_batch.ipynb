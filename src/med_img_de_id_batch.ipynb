{
 "cells": [
  {
   "attachments": {},
   "cell_type": "markdown",
   "metadata": {},
   "source": [
    "# HIPAA Privacy Rule-based De-identification on DICOM Dataset\n",
    "\n",
    "HIPAA provides two methods for de-identification: the \"Safe Harbor\" method and the \"Expert Determination\" method. The Safe Harbor method is more straightforward and involves anonymizing/redacting 18 specific types of identifiers from the data.\n",
    "\n",
    "Here, we will focus on the Safe Harbor method, which includes removing or redacting identifiers such as names, geographic subdivisions smaller than a state, dates directly related to an individual, phone numbers, email addresses, and more.\n",
    "\n",
    "After de-ID,  the DICOM file will be updated and uploaded to destiny storage and evaluated by AWS services, Rekongnition, Comprehend and Comprehend Medical."
   ]
  },
  {
   "cell_type": "markdown",
   "metadata": {},
   "source": [
    "## Setup\n",
    "\n",
    "Let's start by setting environment variables for de identification of DICOM file:\n",
    "1) set local path of DICOM img folder.\n",
    "2) set source and destiny s3 bucket.\n",
    "3) set source and destiny prefix for DICOM file.\n",
    "4) set user profile of AWS account if different default."
   ]
  },
  {
   "cell_type": "code",
   "execution_count": 1,
   "metadata": {},
   "outputs": [
    {
     "name": "stdout",
     "output_type": "stream",
     "text": [
      "sagemaker.config INFO - Not applying SDK defaults from location: /Library/Application Support/sagemaker/config.yaml\n",
      "sagemaker.config INFO - Not applying SDK defaults from location: /Users/gup2/Library/Application Support/sagemaker/config.yaml\n"
     ]
    }
   ],
   "source": [
    "from med_img_de_id_class import ProcessMedImage\n",
    "# setup environment\n",
    "LOC_DICOM_FOLDER = '/Users/gup2/Documents/AI/Dicom_files/manifest-1617826555824/Pseudo-PHI-DICOM-Data'\n",
    "LOC_DE_ID_DICOM_FOLDER = '../images/med_de_id_img/Pseudo-PHI-DICOM-Data'\n",
    "SOURCE_BUCKET = \"crdcdh-test-submission\"\n",
    "DESTINATION_BUCKET = \"crdc-hub-dev\"\n",
    "SOURCE_PREFIX = \"dicom-images/\"\n",
    "DESTINATION_PREFIX = \"de-id-dicom-images/\"\n",
    "EVAL_BUCKET = \"crdc-hub-dev\"\n",
    "EVAL_PREFIX = \"eval_de-id-dicom-images/\"\n",
    "\n",
    "processor = ProcessMedImage()"
   ]
  },
  {
   "cell_type": "markdown",
   "metadata": {},
   "source": [
    "## Loop through the all DICOM files under the local DICOM folder"
   ]
  },
  {
   "cell_type": "code",
   "execution_count": 8,
   "metadata": {},
   "outputs": [
    {
     "name": "stdout",
     "output_type": "stream",
     "text": [
      "Found 1693 DICOM files under /Users/gup2/Documents/AI/Dicom_files/manifest-1617826555824/Pseudo-PHI-DICOM-Data\n"
     ]
    }
   ],
   "source": [
    "import glob, os\n",
    "FILE_NAME = 'file_name'\n",
    "FILE_PATH = 'file_path'\n",
    "FILE_PREFIX = 'prefix'\n",
    "dicom_list = []\n",
    "dicom_files = glob.glob('{}/**/*.dcm'.format(LOC_DICOM_FOLDER), recursive=True)\n",
    "\n",
    "for filepath in dicom_files:\n",
    "    filename = os.path.basename(filepath)\n",
    "    prefix = os.path.join(SOURCE_PREFIX, filepath.split('/')[-2])\n",
    "    dicom_list.append({FILE_NAME:filename, FILE_PATH: filepath, FILE_PREFIX: prefix})\n",
    "    \n",
    "    # print('filename: {}, filepath: {}, prefix: {}'.format(filename, filepath, prefix))\n",
    "print(f'Found {len(dicom_list)} DICOM files under {LOC_DICOM_FOLDER}')"
   ]
  },
  {
   "cell_type": "markdown",
   "metadata": {},
   "source": [
    "## De-Identification on DICOM files based n HIPPA privacy rules"
   ]
  },
  {
   "cell_type": "code",
   "execution_count": null,
   "metadata": {},
   "outputs": [],
   "source": [
    "for file in dicom_list:\n",
    "    # 1 parse dicom file"
   ]
  },
  {
   "cell_type": "markdown",
   "metadata": {},
   "source": [
    "## De-Identification in metadata of DICOM"
   ]
  },
  {
   "cell_type": "code",
   "execution_count": null,
   "metadata": {},
   "outputs": [],
   "source": [
    "processor.de_identify_dicom(dicom_dataset)"
   ]
  },
  {
   "cell_type": "markdown",
   "metadata": {},
   "source": [
    "## Draw DICOM image before de-identification"
   ]
  },
  {
   "cell_type": "code",
   "execution_count": null,
   "metadata": {},
   "outputs": [],
   "source": [
    "# show med image before de-identification\n",
    "processor.draw_img(pixel_data)"
   ]
  },
  {
   "cell_type": "markdown",
   "metadata": {},
   "source": [
    "## De-Identification in pixel of DICOM"
   ]
  },
  {
   "cell_type": "code",
   "execution_count": null,
   "metadata": {},
   "outputs": [],
   "source": [
    "from PIL import Image\n",
    "src_png_key = src_key.replace('.dcm', '.png')\n",
    "local_de_id_png = LOC_DE_ID_DICOM_FOLDER + local_img_file.replace('.dcm', '.png')\n",
    "id_text_detected = processor.detect_id_in_img(SOURCE_BUCKET, src_png_key)\n",
    "if id_text_detected and len(id_text_detected):\n",
    "    print(f'Sensitive text detected in {src_png_key}')\n",
    "    print (id_text_detected)\n",
    "    processor.redact_id_in_image(SOURCE_BUCKET, src_png_key, id_text_detected, local_de_id_png)\n",
    "    # show redacted image\n",
    "    print('Showing redacted image')\n",
    "    img = Image.open(local_de_id_png)\n",
    "    processor.draw_img(img)\n",
    "\n",
    "else:\n",
    "    print(f'No sensitive text detected in {src_png_key}')\n"
   ]
  },
  {
   "cell_type": "markdown",
   "metadata": {},
   "source": [
    "## Updated the DICOM with redacted metadata and blurred sensitive identification text in image."
   ]
  },
  {
   "cell_type": "code",
   "execution_count": null,
   "metadata": {},
   "outputs": [],
   "source": [
    "local_de_id_dicom = local_de_id_png.replace('.png', '.dcm')\n",
    "if id_text_detected and len(id_text_detected):\n",
    "    processor.convert_back_dicom(local_de_id_png, dicom_dataset,local_de_id_dicom)"
   ]
  },
  {
   "cell_type": "markdown",
   "metadata": {},
   "source": [
    "## Upload redacted DICOM to destination s3 bucket for evaluation with AWS Comprehend and Comprehend Medical"
   ]
  },
  {
   "cell_type": "code",
   "execution_count": null,
   "metadata": {},
   "outputs": [],
   "source": [
    "local_img_file = 'MartinChad-1-1.dcm'\n",
    "\n",
    "# check after redacted\n",
    "local_img_path = LOC_DE_ID_DICOM_FOLDER + local_img_file\n",
    "src_key= DESTINATION_PREFIX + local_img_file\n",
    "dist_key= EVAL_PREFIX + 'lung-1-1.dcm'\n",
    "result, dicom_dataset, pixel_data = processor.upload_dicom_file(DESTINATION_BUCKET, src_key, local_img_path)\n",
    "\n",
    "# check before redacted\n",
    "# local_img_path = LOC_DICOM_FOLDER + local_img_file\n",
    "# src_key= SOURCE_PREFIX + local_img_file\n",
    "# dist_key= SOURCE_PREFIX + 'lung-1-1.dcm'\n",
    "# result, dicom_dataset, pixel_data = processor.upload_dicom_file(SOURCE_BUCKET, src_key, local_img_path)"
   ]
  },
  {
   "cell_type": "markdown",
   "metadata": {},
   "source": [
    "## Evaluate Redacted DICOM Metadata"
   ]
  },
  {
   "cell_type": "code",
   "execution_count": null,
   "metadata": {},
   "outputs": [],
   "source": [
    "tags, ids = processor.detect_id_in_tags(dicom_dataset)\n",
    "if ids and len(ids) > 0:\n",
    "    print(\"Found PII/PHI in redacted DICOM: \", ids)\n",
    "else:\n",
    "    print(\"No PII/PHI found in redacted DICOM\")"
   ]
  },
  {
   "cell_type": "markdown",
   "metadata": {},
   "source": [
    "## Evaluate Redacted DICOM Pixel Data"
   ]
  },
  {
   "cell_type": "code",
   "execution_count": null,
   "metadata": {},
   "outputs": [],
   "source": [
    "from PIL import Image\n",
    "src_png_key = src_key.replace('.dcm', '.png')\n",
    "local_img_file = src_key.split('/')[-1]\n",
    "# check after redacted\n",
    "local_de_id_png = LOC_DE_ID_DICOM_FOLDER + local_img_file.replace('.dcm', '.png')\n",
    "id_text_detected = processor.detect_id_in_img(DESTINATION_BUCKET, src_png_key, True)\n",
    "# check before redacted\n",
    "# local_de_id_png = LOC_DICOM_FOLDER + local_img_file.replace('.dcm', '.png')\n",
    "# id_text_detected = processor.detect_id_in_img(SOURCE_BUCKET, src_png_key, True)\n",
    "if id_text_detected and len(id_text_detected):\n",
    "    print(f'Sensitive text detected in {src_png_key}')\n",
    "    print (id_text_detected)\n",
    "    processor.redact_id_in_image(SOURCE_BUCKET, src_png_key, id_text_detected, local_de_id_png)\n",
    "    # show redacted image\n",
    "    print('Showing redacted image')\n",
    "    img = Image.open(local_de_id_png)\n",
    "    processor.draw_img(img)\n",
    "\n",
    "else:\n",
    "    print(f'No sensitive text detected in {src_png_key}')"
   ]
  },
  {
   "cell_type": "markdown",
   "metadata": {},
   "source": [
    "## Self-learning: update rules for detecting PHI/PII information in DICOM file."
   ]
  },
  {
   "cell_type": "code",
   "execution_count": null,
   "metadata": {},
   "outputs": [],
   "source": [
    "if ids and len(ids) > 0:\n",
    "    processor.update_rules_in_configs(processor.dicom_tags, processor.sensitive_words, '../configs/de-id/output.yaml')"
   ]
  }
 ],
 "metadata": {
  "kernelspec": {
   "display_name": "Python 3",
   "language": "python",
   "name": "python3"
  },
  "language_info": {
   "codemirror_mode": {
    "name": "ipython",
    "version": 3
   },
   "file_extension": ".py",
   "mimetype": "text/x-python",
   "name": "python",
   "nbconvert_exporter": "python",
   "pygments_lexer": "ipython3",
   "version": "3.12.4"
  }
 },
 "nbformat": 4,
 "nbformat_minor": 2
}
