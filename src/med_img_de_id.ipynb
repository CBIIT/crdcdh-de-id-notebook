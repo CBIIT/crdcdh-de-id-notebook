{
 "cells": [
  {
   "attachments": {},
   "cell_type": "markdown",
   "metadata": {},
   "source": [
    "# HIPAA Privacy Rule-based De-identification on DICOM Dataset\n",
    "\n",
    "HIPAA provides two methods for de-identification: the \"Safe Harbor\" method and the \"Expert Determination\" method. The Safe Harbor method is more straightforward and involves anonymizing/redacting 18 specific types of identifiers from the data.\n",
    "\n",
    "Here, we will focus on the Safe Harbor method, which includes removing or redacting identifiers such as names, geographic subdivisions smaller than a state, dates directly related to an individual, phone numbers, email addresses, and more.\n",
    "\n",
    "After de-ID,  the DICOM file will be updated and uploaded to destiny storage and evaluated by AWS services, Rekongnition, Comprehend and Comprehend Medical."
   ]
  },
  {
   "cell_type": "markdown",
   "metadata": {},
   "source": [
    "## Setup\n",
    "\n",
    "Let's start by setting environment variables for de identification of DICOM file:\n",
    "1) set local path of DICOM img folder.\n",
    "2) set source and destiny s3 bucket.\n",
    "3) set source and destiny prefix for DICOM file.\n",
    "4) set user profile of AWS account if different default."
   ]
  },
  {
   "cell_type": "code",
   "execution_count": 3,
   "metadata": {},
   "outputs": [
    {
     "name": "stdout",
     "output_type": "stream",
     "text": [
      "\\d{3}\\s[a-zA-Z]{4}\\s[a-zA-Z]{6}\n"
     ]
    }
   ],
   "source": [
    "from med_img_de_id_class import ProcessMedImage\n",
    "from common.utils import generate_regex\n",
    "# setup environment\n",
    "LOC_DICOM_FOLDER = '../images/med_phi_img/'\n",
    "LOC_DE_ID_DICOM_FOLDER = '../images/med_de_id_img/'\n",
    "SOURCE_BUCKET = \"crdcdh-test-submission\"\n",
    "DESTINATION_BUCKET = \"crdc-hub-dev\"\n",
    "SOURCE_PREFIX = \"dicom-images/\"\n",
    "DESTINATION_PREFIX = \"de-id-dicom-images/\"\n",
    "EVAL_BUCKET = \"crdc-hub-dev\"\n",
    "EVAL_PREFIX = \"eval-de-id-dicom-images/\"\n"
   ]
  },
  {
   "cell_type": "markdown",
   "metadata": {},
   "source": [
    "## Upload DICOM image(s) to s3 bucket"
   ]
  },
  {
   "cell_type": "code",
   "execution_count": null,
   "metadata": {},
   "outputs": [],
   "source": [
    "local_img_file = 'MartinChad-1-1.dcm'\n",
    "local_img_path = LOC_DICOM_FOLDER + local_img_file\n",
    "src_key= SOURCE_PREFIX + 'MartinChad-1-1.dcm'\n",
    "dist_key= DESTINATION_PREFIX + 'MartinChad-1-1.dcm'\n",
    "result, dicom_dataset = processor.upload_dicom_file(SOURCE_BUCKET, src_key, local_img_path)"
   ]
  },
  {
   "cell_type": "markdown",
   "metadata": {},
   "source": [
    "## De-Identification in metadata of DICOM"
   ]
  },
  {
   "cell_type": "code",
   "execution_count": null,
   "metadata": {},
   "outputs": [],
   "source": [
    "processor.de_identify_dicom(dicom_dataset)"
   ]
  },
  {
   "cell_type": "markdown",
   "metadata": {},
   "source": [
    "## Draw DICOM image before de-identification"
   ]
  },
  {
   "cell_type": "code",
   "execution_count": null,
   "metadata": {},
   "outputs": [],
   "source": [
    "# show med image before de-identification\n",
    "processor.draw_img(processor.image_data)"
   ]
  },
  {
   "cell_type": "markdown",
   "metadata": {},
   "source": [
    "## De-Identification in pixel of DICOM"
   ]
  },
  {
   "cell_type": "code",
   "execution_count": null,
   "metadata": {},
   "outputs": [],
   "source": [
    "from PIL import Image\n",
    "local_de_id_png = LOC_DE_ID_DICOM_FOLDER + local_img_file.replace('.dcm', '.png')\n",
    "id_text_detected = processor.detect_id_in_img(None, None, None)\n",
    "if id_text_detected and len(id_text_detected):\n",
    "    print(f'Sensitive text detected in {local_img_file}')\n",
    "    print (id_text_detected)\n",
    "    processor.redact_id_in_image(id_text_detected, local_de_id_png)\n",
    "    # show redacted image\n",
    "    print('Sensitive text in image have been redacted')\n",
    "    img = Image.open(local_de_id_png)\n",
    "    processor.draw_img(img)\n",
    "\n",
    "else:\n",
    "    print(f'No sensitive text detected in {local_img_file}')\n"
   ]
  },
  {
   "cell_type": "markdown",
   "metadata": {},
   "source": [
    "## Updated the DICOM with redacted metadata and blurred sensitive identification text in image."
   ]
  },
  {
   "cell_type": "code",
   "execution_count": null,
   "metadata": {},
   "outputs": [],
   "source": [
    "local_de_id_dicom = local_de_id_png.replace('.png', '.dcm')\n",
    "if id_text_detected and len(id_text_detected) > 0:\n",
    "    processor.save_de_id_dicom(local_de_id_png, dicom_dataset,local_de_id_dicom)"
   ]
  },
  {
   "cell_type": "markdown",
   "metadata": {},
   "source": [
    "## Upload redacted DICOM to destination s3 bucket for evaluation with AWS Comprehend and Comprehend Medical"
   ]
  },
  {
   "cell_type": "code",
   "execution_count": null,
   "metadata": {},
   "outputs": [],
   "source": [
    "local_img_file = src_key.split('/')[-1]\n",
    "\n",
    "# check after redacted\n",
    "local_img_path = LOC_DE_ID_DICOM_FOLDER + local_img_file\n",
    "src_key= DESTINATION_PREFIX + local_img_file\n",
    "dist_key= DESTINATION_PREFIX + local_img_file \n",
    "result, dicom_dataset = processor.upload_dicom_file(DESTINATION_BUCKET, src_key, local_img_path, True)\n",
    "\n",
    "# check before redacted\n",
    "# local_img_path = LOC_DICOM_FOLDER + local_img_file\n",
    "# src_key= SOURCE_PREFIX + local_img_file\n",
    "# dist_key= DESTINATION_PREFIX + local_img_file \n",
    "# result, dicom_dataset= processor.upload_dicom_file(SOURCE_BUCKET, src_key, local_img_path, True)"
   ]
  },
  {
   "cell_type": "markdown",
   "metadata": {},
   "source": [
    "## Evaluate Redacted DICOM Metadata"
   ]
  },
  {
   "cell_type": "code",
   "execution_count": null,
   "metadata": {},
   "outputs": [],
   "source": [
    "from common.utils import dump_dict_to_tsv, get_date_time\n",
    "tags, ids = processor.detect_id_in_tags(dicom_dataset)\n",
    "if ids and len(ids) > 0:\n",
    "    print(\"Found PII/PHI in redacted DICOM: \", ids)\n",
    "    # create a evaluation report\n",
    "    eval_dict_list = []\n",
    "    for i in range(len(ids)):\n",
    "        eval_dict = {\"tag\": tags[i], \"Detected PHI\": ids[i]}\n",
    "        eval_dict_list.append(eval_dict)\n",
    "    dump_dict_to_tsv(eval_dict_list, f\"../output/eval_report/tags_de_id_evaluation_report_{get_date_time()}.tsv\")\n",
    "    # redact remaining PHI \n",
    "    processor.redact_tags(dicom_dataset, tags)\n",
    "\n",
    "else:\n",
    "    print(\"No PII/PHI found in redacted DICOM\")"
   ]
  },
  {
   "cell_type": "markdown",
   "metadata": {},
   "source": [
    "## Evaluate Redacted DICOM Pixel Data"
   ]
  },
  {
   "cell_type": "code",
   "execution_count": null,
   "metadata": {},
   "outputs": [],
   "source": [
    "from PIL import Image\n",
    "\n",
    "local_img_file = src_key.split('/')[-1]\n",
    "local_de_id_png = LOC_DE_ID_DICOM_FOLDER + local_img_file.replace('.dcm', '.png')\n",
    "# check after redacted\n",
    "src_png_key = dist_key.replace('.dcm', '.png')\n",
    "local_png = LOC_DE_ID_DICOM_FOLDER + local_img_file.replace('.dcm', '.png')\n",
    "id_text_detected = processor.detect_id_in_img(local_png, DESTINATION_BUCKET, src_png_key, True)\n",
    "# check before redacted\n",
    "# local_png = LOC_DICOM_FOLDER + local_img_file.replace('.dcm', '.png')\n",
    "# id_text_detected = processor.detect_id_in_img(local_png, SOURCE_BUCKET, src_key.replace('.dcm', '.png'), True)\n",
    "if id_text_detected and len(id_text_detected) > 0:\n",
    "    print(f'Sensitive text detected in {local_png}')\n",
    "    dump_dict_to_tsv(id_text_detected, f\"../output/eval_report/img_de_id_evaluation_report_{get_date_time()}.tsv\")\n",
    "    print (id_text_detected)\n",
    "    processor.redact_id_in_image(id_text_detected, local_de_id_png)\n",
    "    # show redacted image\n",
    "    print('Showing redacted image')\n",
    "    img = Image.open(local_de_id_png)\n",
    "    processor.draw_img(img)\n",
    "\n",
    "else:\n",
    "    print(f'No sensitive text detected in {src_png_key}')"
   ]
  },
  {
   "cell_type": "markdown",
   "metadata": {},
   "source": [
    "## Update evaluated DICOM file if remaining PHI info detected and redacted"
   ]
  },
  {
   "cell_type": "code",
   "execution_count": null,
   "metadata": {},
   "outputs": [],
   "source": [
    "if ids and len(ids) > 0:\n",
    "    local_de_id_dicom = local_de_id_png.replace('.png', '.dcm')\n",
    "    processor.save_de_id_dicom(local_de_id_png, dicom_dataset,local_de_id_dicom)"
   ]
  },
  {
   "cell_type": "markdown",
   "metadata": {},
   "source": [
    "## Self-learning: update rules for detecting PHI/PII information in DICOM file."
   ]
  },
  {
   "cell_type": "code",
   "execution_count": null,
   "metadata": {},
   "outputs": [],
   "source": [
    "if ids and len(ids) > 0:\n",
    "    processor.update_rules_in_configs('../configs/de-id/output.yaml')"
   ]
  }
 ],
 "metadata": {
  "kernelspec": {
   "display_name": "Python 3",
   "language": "python",
   "name": "python3"
  },
  "language_info": {
   "codemirror_mode": {
    "name": "ipython",
    "version": 3
   },
   "file_extension": ".py",
   "mimetype": "text/x-python",
   "name": "python",
   "nbconvert_exporter": "python",
   "pygments_lexer": "ipython3",
   "version": "3.12.4"
  }
 },
 "nbformat": 4,
 "nbformat_minor": 2
}
